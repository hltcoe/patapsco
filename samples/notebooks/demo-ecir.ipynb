{
 "cells": [
  {
   "cell_type": "markdown",
   "id": "8474926e",
   "metadata": {},
   "source": [
    "# Demo for Patapsco"
   ]
  },
  {
   "cell_type": "markdown",
   "id": "0b1624ef",
   "metadata": {},
   "source": [
    "Welcome to the demo notebook for patapsco! \n",
    "\n",
    "In this notebook, we will walk you through several commonly used CLIR retrieval models using patpasco. "
   ]
  },
  {
   "cell_type": "markdown",
   "id": "2a9cebfa",
   "metadata": {},
   "source": [
    "## Getting Started"
   ]
  },
  {
   "cell_type": "markdown",
   "id": "6e463d1d",
   "metadata": {},
   "source": [
    "First, we need to install the packages. We use pyTerrier here as an example for how we can integrate other monolingual retreival framework into patapsco. "
   ]
  },
  {
   "cell_type": "code",
   "execution_count": null,
   "id": "780a5b38",
   "metadata": {},
   "outputs": [],
   "source": [
    "!pip install 'python-terrier>=0.7.1' git+https://github.com/hltcoe/patapsco  --upgrade\n",
    "\n",
    "import stanza\n",
    "stanza.download('zh')\n",
    "stanza.download('en')"
   ]
  },
  {
   "cell_type": "markdown",
   "id": "5f105ee0",
   "metadata": {},
   "source": [
    "Then we download the demo data from our GitHub repository into the colab workspace. "
   ]
  },
  {
   "cell_type": "code",
   "execution_count": null,
   "id": "517c6d8e",
   "metadata": {},
   "outputs": [],
   "source": [
    "!wget https://raw.githubusercontent.com/hltcoe/patapsco/demo-notebook/samples/notebooks/zho_eng_clean_reduced_pdt.dict\n",
    "!wget https://raw.githubusercontent.com/hltcoe/patapsco/demo-notebook/samples/data/cc-news-zho-1000.jsonl\n",
    "!wget https://raw.githubusercontent.com/hltcoe/patapsco/demo-notebook/samples/data/dev.topics.v1-0.jsonl\n",
    "!wget https://raw.githubusercontent.com/hltcoe/patapsco/demo-notebook/samples/data/zho.toy-dev.qrels.v1-0.txt"
   ]
  },
  {
   "cell_type": "markdown",
   "id": "e27e34a3",
   "metadata": {},
   "source": [
    "Finally, we start importing the major packages. "
   ]
  },
  {
   "cell_type": "code",
   "execution_count": 1,
   "id": "5d714407",
   "metadata": {},
   "outputs": [
    {
     "name": "stdout",
     "output_type": "stream",
     "text": [
      "PyTerrier 0.7.0 has loaded Terrier 5.6 (built by craigmacdonald on 2021-09-17 13:27)\n"
     ]
    },
    {
     "name": "stderr",
     "output_type": "stream",
     "text": [
      "No etc/terrier.properties, using terrier.default.properties for bootstrap configuration.\n",
      "SLF4J: Class path contains multiple SLF4J bindings.\n",
      "SLF4J: Found binding in [jar:file:/Users/eyang/miniconda3/envs/patapsco/lib/python3.8/site-packages/pyserini/resources/jars/anserini-0.13.1-fatjar.jar!/org/slf4j/impl/StaticLoggerBinder.class]\n",
      "SLF4J: Found binding in [jar:file:/Users/eyang/.pyterrier/terrier-assemblies-5.6-jar-with-dependencies.jar!/org/slf4j/impl/StaticLoggerBinder.class]\n",
      "SLF4J: See http://www.slf4j.org/codes.html#multiple_bindings for an explanation.\n",
      "SLF4J: Actual binding is of type [org.slf4j.impl.SimpleLoggerFactory]\n"
     ]
    }
   ],
   "source": [
    "import patapsco\n",
    "\n",
    "import pyterrier as pt\n",
    "if not pt.started():\n",
    "    pt.init(tqdm='notebook')"
   ]
  },
  {
   "cell_type": "code",
   "execution_count": 2,
   "id": "c292bb3c",
   "metadata": {},
   "outputs": [],
   "source": [
    "import copy\n",
    "import random\n",
    "from pathlib import Path\n",
    "\n",
    "import pandas as pd"
   ]
  },
  {
   "cell_type": "code",
   "execution_count": null,
   "id": "9d1bfd48",
   "metadata": {},
   "outputs": [],
   "source": []
  },
  {
   "cell_type": "code",
   "execution_count": null,
   "id": "091395d5",
   "metadata": {},
   "outputs": [],
   "source": []
  },
  {
   "cell_type": "markdown",
   "id": "9901ded4",
   "metadata": {},
   "source": [
    "The configuration can be specified through a dictionary in python. \n",
    "If you like to run `patapsco` through our command line interface, it can be specified by a YAML file.\n",
    "\n",
    "A config file can specify a partial run from the start, e.g. from the beginning to indexing, or starting from an existing run, e.g., retrieval based on a pre-built index. "
   ]
  },
  {
   "cell_type": "markdown",
   "id": "fa926e7e",
   "metadata": {},
   "source": [
    "## A full retrieval pipeline -- from reading documents to producing scores"
   ]
  },
  {
   "cell_type": "markdown",
   "id": "ff7cf698",
   "metadata": {},
   "source": [
    "The following is a configuration dictionary of a full `patapsco` pipeline. \n",
    "\n",
    "Here, we use a query translation approach as an example. Patapsco has the ability to select the source of the queries for the topics to support CLIR experiments. "
   ]
  },
  {
   "cell_type": "code",
   "execution_count": 4,
   "id": "7578fc94",
   "metadata": {},
   "outputs": [],
   "source": [
    "config_qt = {\n",
    "    # The identifier of the run -- patapsco prevent the same run from executing twice\n",
    "    \"run\": {\n",
    "        \"name\": \"query translation\" \n",
    "    },\n",
    "    \n",
    "    # Documents for retrieval\n",
    "    \"documents\": {\n",
    "        # The source of the collection\n",
    "        # To use `ir_datasets`, specify `irds` as the format and the name of the dataset as the path\n",
    "        \"input\": {\n",
    "            \"format\": \"json\",\n",
    "            \"lang\": \"zho\",\n",
    "            \"encoding\": \"utf8\",\n",
    "            \"path\": \"cc-news-zho-1000.jsonl\",\n",
    "        },\n",
    "        \n",
    "        # The preprocessing of the documents\n",
    "        \"process\": {\n",
    "            \"normalize\": {\n",
    "                \"lowercase\": True,\n",
    "            },\n",
    "            \"tokenize\": \"jieba\",\n",
    "            \"strict_check\": True,\n",
    "            \"stopwords\": \"lucene\"\n",
    "        },\n",
    "        \n",
    "        # comments are ommitted but good for documenting the process\n",
    "        \"comment\": \"Small CC collection for demo\", \n",
    "    },\n",
    "    \n",
    "    # We store the preprocessed documents in a sqlite database\n",
    "    \"database\": {\n",
    "        \"name\": \"sqlite\"\n",
    "    },\n",
    "    \n",
    "    # The index of the collection\n",
    "    \"index\": {\n",
    "        \"name\": \"lucene\"\n",
    "    },\n",
    "    \n",
    "    # The format of the topic file. We support json(l), xml, SGML(the TREC style) and ir_datasets \n",
    "    \"topics\": {\n",
    "        \"input\": {\n",
    "            \"format\": \"json\",\n",
    "            \"lang\": \"zho\",\n",
    "            \"source\": \"human translation\", # selecting the human translation version\n",
    "            \"encoding\": \"utf8\",\n",
    "            \"path\": \"dev.topics.v1-0.jsonl\"\n",
    "        },\n",
    "        \n",
    "        # Here we use the title queries\n",
    "        \"fields\": \"title\"\n",
    "    },\n",
    "    \n",
    "    # Query text preprocessing -- we check to make sure this aligns with the document preprocessing\n",
    "    \"queries\": {\n",
    "        \"process\": {\n",
    "            \"normalize\": {\n",
    "                \"lowercase\": True,\n",
    "            },\n",
    "            \"tokenize\": \"jieba\",\n",
    "            \"stopwords\": \"lucene\"\n",
    "        }\n",
    "    },\n",
    "    \n",
    "    # Specifying the retrieval model\n",
    "    \"retrieve\": {\n",
    "        \"name\": \"bm25\",\n",
    "        \"number\": 5\n",
    "    },\n",
    "    \n",
    "    # Evaluting the run\n",
    "    \"score\": {\n",
    "        \"input\": {\n",
    "            \"path\": \"zho.toy-dev.qrels.v1-0.txt\"\n",
    "        }\n",
    "    }\n",
    "}"
   ]
  },
  {
   "cell_type": "markdown",
   "id": "0f4fcd5f",
   "metadata": {},
   "source": [
    "The following cell execute the pipeline. The log is presented in the console and stored in the run dictory as well. "
   ]
  },
  {
   "cell_type": "code",
   "execution_count": 5,
   "id": "433e939c",
   "metadata": {
    "scrolled": false
   },
   "outputs": [
    {
     "name": "stderr",
     "output_type": "stream",
     "text": [
      "2021-10-20 23:23:58,420 - patapsco.run - INFO - Patapsco version 1.0.0-dev\n",
      "2021-10-20 23:23:58,425 - patapsco.run - INFO - Writing output to: /Users/eyang/Documents/Repositories/patapsco/samples/notebooks/runs/query-translation\n",
      "2021-10-20 23:23:58,554 - patapsco.job - INFO - Stage 1 is a streaming pipeline.\n",
      "2021-10-20 23:23:58,555 - patapsco.job - INFO - Stage 1 pipeline: Hc4JsonDocumentReader | DocumentProcessor | DatabaseWriter | LuceneIndexer\n",
      "2021-10-20 23:23:58,558 - patapsco.retrieve - INFO - Index location: runs/query-translation/index\n",
      "2021-10-20 23:23:58,559 - patapsco.job - INFO - Stage 2 is a streaming pipeline.\n",
      "2021-10-20 23:23:58,560 - patapsco.job - INFO - Stage 2 pipeline: Hc4JsonTopicReader | TopicProcessor | QueryProcessor | QueryWriter | PyseriniRetriever | JsonResultsWriter | TrecResultsWriter\n",
      "2021-10-20 23:23:58,561 - patapsco.job - INFO - Starting run: query translation\n",
      "2021-10-20 23:23:58,561 - patapsco.job - INFO - Stage 1: Starting processing of documents\n",
      "2021-10-20 23:24:01,946 - stanza - INFO - Loading these models for language: zh-hans (Simplified_Chinese): | tokenize  | jieba   |\n",
      "2021-10-20 23:24:01,947 - stanza - INFO - Use device: cpu\n",
      "2021-10-20 23:24:01,948 - stanza - INFO - Loading: tokenize\n",
      "2021-10-20 23:24:02,044 - stanza - INFO - Done loading processors!\n",
      "2021-10-20 23:24:16,993 - patapsco.job - INFO - Stage 1: Ingested 998 documents\n",
      "2021-10-20 23:24:16,994 - patapsco.job - INFO - Stage 1 took 18.4 secs\n",
      "2021-10-20 23:24:16,995 - patapsco.job - INFO - Stage 2: Starting processing of topics\n",
      "2021-10-20 23:24:17,031 - patapsco.retrieve - INFO - Using BM25 with parameters k1=0.9 and b=0.4\n",
      "2021-10-20 23:24:17,090 - patapsco.job - INFO - Stage 2: Processed 2 topics\n",
      "2021-10-20 23:24:17,091 - patapsco.job - INFO - Stage 2 took 0.1 secs\n",
      "2021-10-20 23:24:17,101 - patapsco.score - INFO - Average scores over 2 queries: map: 0.354, ndcg: 0.482, ndcg_prime: 0.482, recall_100: 0.438, recall_1000: 0.438\n",
      "2021-10-20 23:24:17,103 - patapsco.job - INFO - Memory usage: 503.5 MB\n",
      "2021-10-20 23:24:17,103 - patapsco.job - INFO - Run complete\n"
     ]
    }
   ],
   "source": [
    "runner = patapsco.Runner(config_qt)\n",
    "runner.run()"
   ]
  },
  {
   "cell_type": "markdown",
   "id": "c9df2421",
   "metadata": {},
   "source": [
    "Everthing is stored in the run directory."
   ]
  },
  {
   "cell_type": "code",
   "execution_count": 6,
   "id": "51472d58",
   "metadata": {},
   "outputs": [
    {
     "name": "stdout",
     "output_type": "stream",
     "text": [
      "config.yml        patapsco.log      \u001b[1m\u001b[34mretrieve\u001b[m\u001b[m\r\n",
      "\u001b[1m\u001b[34mdatabase\u001b[m\u001b[m          \u001b[1m\u001b[34mprocessed_queries\u001b[m\u001b[m scores.txt\r\n",
      "\u001b[1m\u001b[34mindex\u001b[m\u001b[m             results.txt       timing.json\r\n"
     ]
    }
   ],
   "source": [
    "!ls runs/query-translation"
   ]
  },
  {
   "cell_type": "markdown",
   "id": "b51df15c",
   "metadata": {},
   "source": [
    "The configuration is dumpped into a YAML file. \n",
    "\n",
    "By executing `patapsco runs/full-run/config.yml`, you would be able to reproduce the exect same run. "
   ]
  },
  {
   "cell_type": "code",
   "execution_count": 7,
   "id": "a625f6a0",
   "metadata": {},
   "outputs": [
    {
     "name": "stdout",
     "output_type": "stream",
     "text": [
      "database:\r\n",
      "  name: sqlite\r\n",
      "  output: database\r\n",
      "documents:\r\n",
      "  comment: Small CC collection for demo\r\n",
      "  input:\r\n",
      "    encoding: utf8\r\n",
      "    format: json\r\n",
      "    lang: zho\r\n",
      "    path: /Users/eyang/Documents/Repositories/patapsco/samples/data/cc-news-zho-1000.jsonl\r\n",
      "  output: false\r\n",
      "  process:\r\n",
      "    normalize:\r\n",
      "      lowercase: true\r\n",
      "      report: false\r\n",
      "    stem: false\r\n",
      "    stopwords: lucene\r\n",
      "    strict_check: true\r\n",
      "    tokenize: jieba\r\n",
      "index:\r\n",
      "  name: lucene\r\n",
      "  output: index\r\n",
      "queries:\r\n",
      "  output: processed_queries\r\n",
      "  parse: false\r\n",
      "  process:\r\n",
      "    normalize:\r\n",
      "      lowercase: true\r\n",
      "      report: false\r\n",
      "    stem: false\r\n",
      "    stopwords: lucene\r\n",
      "    strict_check: true\r\n",
      "    tokenize: jieba\r\n",
      "retrieve:\r\n",
      "  b: 0.4\r\n",
      "  fb_docs: 10\r\n",
      "  fb_terms: 10\r\n",
      "  input:\r\n",
      "    index:\r\n",
      "      path: index\r\n",
      "  k1: 0.9\r\n",
      "  log_explanations: false\r\n",
      "  log_explanations_cutoff: 10\r\n",
      "  mu: 1000\r\n",
      "  name: bm25\r\n",
      "  number: 5\r\n",
      "  original_query_weight: 0.5\r\n",
      "  output: retrieve\r\n",
      "  parse: false\r\n",
      "  psq: false\r\n",
      "  rm3: false\r\n",
      "  rm3_logging: false\r\n",
      "run:\r\n",
      "  name: query translation\r\n",
      "  path: runs/query-translation\r\n",
      "  results: results.txt\r\n",
      "  stage1:\r\n",
      "    mode: streaming\r\n",
      "    num_jobs: 1\r\n",
      "    progress_interval: 10000\r\n",
      "  stage2:\r\n",
      "    mode: streaming\r\n",
      "    num_jobs: 1\r\n",
      "    progress_interval: 10\r\n",
      "score:\r\n",
      "  input:\r\n",
      "    format: trec\r\n",
      "    path: /Users/eyang/Documents/Repositories/patapsco/samples/data/zho.toy-dev.qrels.v1-0.txt\r\n",
      "  metrics:\r\n",
      "  - ndcg_prime\r\n",
      "  - ndcg\r\n",
      "  - map\r\n",
      "  - recall_100\r\n",
      "  - recall_1000\r\n",
      "topics:\r\n",
      "  fields: title\r\n",
      "  input:\r\n",
      "    encoding: utf8\r\n",
      "    format: json\r\n",
      "    lang: zho\r\n",
      "    path: /Users/eyang/Documents/Repositories/patapsco/samples/data/dev.topics.v1-0.jsonl\r\n",
      "    prefix: false\r\n",
      "    source: human translation\r\n",
      "    strip_non_digits: false\r\n",
      "  output: false\r\n"
     ]
    }
   ],
   "source": [
    "!cat runs/query-translation/config.yml"
   ]
  },
  {
   "cell_type": "code",
   "execution_count": null,
   "id": "dc0cdb81",
   "metadata": {},
   "outputs": [],
   "source": []
  },
  {
   "cell_type": "markdown",
   "id": "c985bac9",
   "metadata": {},
   "source": [
    "## Running Probabilistic Structured Query (PSQ)"
   ]
  },
  {
   "cell_type": "markdown",
   "id": "60c89c40",
   "metadata": {},
   "source": [
    "PSQ is one of the most common CLIR approaches that leverages the translation table from statistical machine translation models. \n",
    "\n",
    "Patpasco also supports it natively. For this demo, we provide a Chinese-English translation table. "
   ]
  },
  {
   "cell_type": "markdown",
   "id": "27a4668f",
   "metadata": {},
   "source": [
    "Besides running everything from scratch, patapsco has the ability to use components from existing runs. \n",
    "\n",
    "Here, we use the index built in the query translation run and rerun the experment from retrieval. \n",
    "This allows better reproduciblity and efficient ablation studies. "
   ]
  },
  {
   "cell_type": "code",
   "execution_count": 8,
   "id": "6a149207",
   "metadata": {},
   "outputs": [
    {
     "name": "stderr",
     "output_type": "stream",
     "text": [
      "2021-10-20 23:24:17,392 - patapsco.run - INFO - Patapsco version 1.0.0-dev\n",
      "2021-10-20 23:24:17,396 - patapsco.run - INFO - Writing output to: /Users/eyang/Documents/Repositories/patapsco/samples/notebooks/runs/PSQ\n",
      "2021-10-20 23:24:17,408 - patapsco.retrieve - INFO - Index location: /Users/eyang/Documents/Repositories/patapsco/samples/notebooks/runs/query-translation/index\n",
      "2021-10-20 23:24:17,409 - patapsco.job - INFO - Stage 2 is a streaming pipeline.\n",
      "2021-10-20 23:24:17,410 - patapsco.job - INFO - Stage 2 pipeline: Hc4JsonTopicReader | TopicProcessor | QueryProcessor | QueryWriter | PyseriniRetriever | JsonResultsWriter | TrecResultsWriter\n",
      "2021-10-20 23:24:17,412 - patapsco.job - INFO - Starting run: PSQ\n",
      "2021-10-20 23:24:17,415 - patapsco.job - INFO - Stage 2: Starting processing of topics\n",
      "2021-10-20 23:24:19,620 - patapsco.text - INFO - Loading the xx spacy model\n",
      "2021-10-20 23:24:32,723 - patapsco.retrieve - INFO - Using PSQ\n",
      "2021-10-20 23:24:32,724 - patapsco.retrieve - INFO - Using BM25 with parameters k1=0.9 and b=0.4\n",
      "2021-10-20 23:24:32,812 - patapsco.job - INFO - Stage 2: Processed 2 topics\n",
      "2021-10-20 23:24:32,813 - patapsco.job - INFO - Stage 2 took 15.4 secs\n",
      "2021-10-20 23:24:32,834 - patapsco.score - INFO - Average scores over 2 queries: map: 0.774, ndcg: 0.845, ndcg_prime: 0.853, recall_100: 1.000, recall_1000: 1.000\n",
      "2021-10-20 23:24:32,836 - patapsco.job - INFO - Memory usage: 1.3 GB\n",
      "2021-10-20 23:24:32,836 - patapsco.job - INFO - Run complete\n"
     ]
    }
   ],
   "source": [
    "config_psq = {\n",
    "    \"run\": {\n",
    "        \"name\": \"PSQ\" \n",
    "    },\n",
    "        \n",
    "    # Now we select the original English queries (and working on topics that are supported for Chinese)\n",
    "    \"topics\": {\n",
    "        \"input\": {\n",
    "            \"format\": \"json\",\n",
    "            \"lang\": \"eng\",\n",
    "            \"filter_lang\": \"zho\",\n",
    "            \"source\": \"original\",\n",
    "            \"encoding\": \"utf8\",\n",
    "            \"path\": \"dev.topics.v1-0.jsonl\"\n",
    "        },\n",
    "        \"fields\": \"title\"\n",
    "    },\n",
    "    \n",
    "    # Query text preprocessing for PSQ\n",
    "    \"queries\": {\n",
    "        \"output\": \"processed_queries\",\n",
    "        \"parse\": False,\n",
    "        \"process\": {\n",
    "            \"normalize\": {\n",
    "                \"lowercase\": True,\n",
    "                \"report\": False\n",
    "            },\n",
    "            \"stem\": False,\n",
    "            \"stopwords\": \"lucene\",\n",
    "            \"strict_check\": False,\n",
    "            \"tokenize\": \"moses\"\n",
    "        },\n",
    "        \"psq\": {\n",
    "            \"lang\": \"eng\",\n",
    "            \"normalize\": {\n",
    "                \"lowercase\": True,\n",
    "                \"report\": False\n",
    "            },\n",
    "            \"path\": \"zho_eng_clean_reduced_pdt.dict\",\n",
    "            \"stem\": False,\n",
    "            \"stopwords\": \"lucene\",\n",
    "            \"threshold\": 0.97\n",
    "        }\n",
    "    },\n",
    "    \n",
    "    \"retrieve\": {\n",
    "        \"input\": {\n",
    "            \"index\": {\n",
    "                # Use the index from the previous run\n",
    "                \"path\": \"runs/query-translation/index\"\n",
    "            }\n",
    "        },\n",
    "        \"name\": \"bm25\",\n",
    "        \"number\": 1000,\n",
    "        \"psq\": True # Use PSQ\n",
    "    },\n",
    "    \n",
    "    # Evaluting the run\n",
    "    \"score\": {\n",
    "        \"input\": {\n",
    "            \"path\": \"zho.toy-dev.qrels.v1-0.txt\"\n",
    "        }\n",
    "    }\n",
    "}\n",
    "\n",
    "runner = patapsco.Runner(config_psq)\n",
    "runner.run()"
   ]
  },
  {
   "cell_type": "code",
   "execution_count": null,
   "id": "0b0bab9b",
   "metadata": {},
   "outputs": [],
   "source": []
  },
  {
   "cell_type": "code",
   "execution_count": null,
   "id": "085c37f7",
   "metadata": {},
   "outputs": [],
   "source": []
  },
  {
   "cell_type": "markdown",
   "id": "2c0d5dda",
   "metadata": {},
   "source": [
    "## Running a T5 Reranker from pyTerrier"
   ]
  },
  {
   "cell_type": "markdown",
   "id": "9ada03ce",
   "metadata": {},
   "source": [
    "We can also rerank the results from the initial retrieval model. \n",
    "You can define your own reranker with your favorite reranking framework. \n",
    "Here, we use T5 supported by pyTerrier as an example. "
   ]
  },
  {
   "cell_type": "code",
   "execution_count": null,
   "id": "7719d50b",
   "metadata": {},
   "outputs": [],
   "source": [
    "# install T5 \n",
    "!pip install --upgrade git+https://github.com/terrierteam/pyterrier_t5"
   ]
  },
  {
   "cell_type": "markdown",
   "id": "6216c088",
   "metadata": {},
   "source": [
    "We define our custom reranker by implementing the abstract class `patapsco.Reranker`.  "
   ]
  },
  {
   "cell_type": "code",
   "execution_count": 12,
   "id": "e0298189",
   "metadata": {},
   "outputs": [],
   "source": [
    "from pyterrier_t5 import MonoT5ReRanker\n",
    "pt_t5reranker = MonoT5ReRanker(text_field='text')\n",
    "\n",
    "class T5Reranker(patapsco.Reranker):\n",
    "    LOGGER = patapsco.get_logger(\"reranker\")\n",
    "        \n",
    "    def process(self, results):        \n",
    "        df = pd.DataFrame(results.results)\n",
    "        res = df.assign(text=df.doc_id.apply(lambda k: self.db[k].text), query=results.query, qid=1)\\\n",
    "                .rename(columns={'doc_id': 'docno'})\\\n",
    "                .pipe(pt_t5reranker).sort_values('score', ascending=False)\\\n",
    "                .apply(lambda x: patapsco.results.Result(doc_id=x.docno, rank=x['rank'], score=x.score), axis=1).tolist()\n",
    "        \n",
    "        return patapsco.Results(results.query, results.doc_lang, 'T5Rerank', res)"
   ]
  },
  {
   "cell_type": "markdown",
   "id": "4d10bdb8",
   "metadata": {},
   "source": [
    "Register it with patapsco. "
   ]
  },
  {
   "cell_type": "code",
   "execution_count": 13,
   "id": "ba6a5da9",
   "metadata": {},
   "outputs": [],
   "source": [
    "patapsco.RerankFactory.register('t5', T5Reranker)"
   ]
  },
  {
   "cell_type": "code",
   "execution_count": 14,
   "id": "f62c93cb",
   "metadata": {
    "scrolled": false
   },
   "outputs": [
    {
     "name": "stderr",
     "output_type": "stream",
     "text": [
      "2021-10-20 23:25:43,407 - patapsco.run - INFO - Patapsco version 1.0.0-dev\n",
      "2021-10-20 23:25:43,409 - patapsco.run - INFO - Writing output to: /Users/eyang/Documents/Repositories/patapsco/samples/notebooks/runs/T5-Reranking\n",
      "2021-10-20 23:25:43,425 - patapsco.retrieve - INFO - Index location: /Users/eyang/Documents/Repositories/patapsco/samples/notebooks/runs/query-translation/index\n",
      "2021-10-20 23:25:43,432 - patapsco.job - INFO - Stage 2 is a streaming pipeline.\n",
      "2021-10-20 23:25:43,433 - patapsco.job - INFO - Stage 2 pipeline: Hc4JsonTopicReader | TopicProcessor | QueryProcessor | QueryWriter | PyseriniRetriever | JsonResultsWriter | T5Reranker | JsonResultsWriter | TrecResultsWriter\n",
      "2021-10-20 23:25:43,438 - patapsco.job - INFO - Starting run: T5 Reranking\n",
      "2021-10-20 23:25:43,439 - patapsco.job - INFO - Stage 2: Starting processing of topics\n",
      "2021-10-20 23:25:43,445 - patapsco.retrieve - INFO - Using BM25 with parameters k1=0.9 and b=0.4\n"
     ]
    },
    {
     "data": {
      "application/vnd.jupyter.widget-view+json": {
       "model_id": "68193b27d7104640af56dff7ed226440",
       "version_major": 2,
       "version_minor": 0
      },
      "text/plain": [
       "monoT5:   0%|          | 0/25 [00:00<?, ?batches/s]"
      ]
     },
     "metadata": {},
     "output_type": "display_data"
    },
    {
     "name": "stderr",
     "output_type": "stream",
     "text": [
      "Token indices sequence length is longer than the specified maximum sequence length for this model (731 > 512). Running this sequence through the model will result in indexing errors\n"
     ]
    },
    {
     "data": {
      "application/vnd.jupyter.widget-view+json": {
       "model_id": "3c6adea6b27545f19b5beb4b17611715",
       "version_major": 2,
       "version_minor": 0
      },
      "text/plain": [
       "monoT5:   0%|          | 0/25 [00:00<?, ?batches/s]"
      ]
     },
     "metadata": {},
     "output_type": "display_data"
    },
    {
     "name": "stderr",
     "output_type": "stream",
     "text": [
      "2021-10-20 23:29:56,386 - patapsco.job - INFO - Stage 2: Processed 2 topics\n",
      "2021-10-20 23:29:56,387 - patapsco.job - INFO - Stage 2 took 252.9 secs\n",
      "2021-10-20 23:29:56,411 - patapsco.score - INFO - Average scores over 2 queries: map: 0.051, ndcg: 0.214, ndcg_prime: 0.532, recall_100: 0.625, recall_1000: 0.625\n",
      "2021-10-20 23:29:56,413 - patapsco.job - INFO - Memory usage: 1.5 GB\n",
      "2021-10-20 23:29:56,413 - patapsco.job - INFO - Run complete\n"
     ]
    }
   ],
   "source": [
    "config_rerank = {\n",
    "    \"run\": {\n",
    "        \"name\": \"T5 Reranking\" \n",
    "    },\n",
    "    \n",
    "    \"topics\": {\n",
    "        \"input\": {\n",
    "            \"format\": \"json\",\n",
    "            \"lang\": \"zho\",\n",
    "            \"source\": \"20211005-scale21-sockeye2-tm1\", # machine query translation\n",
    "            \"encoding\": \"utf8\",\n",
    "            \"path\": \"dev.topics.v1-0.jsonl\"\n",
    "        },\n",
    "        \"fields\": \"title\"\n",
    "    },\n",
    "    \n",
    "    \"queries\": {\n",
    "        \"process\": {\n",
    "            \"normalize\": {\n",
    "                \"lowercase\": True,\n",
    "            },\n",
    "            \"tokenize\": \"jieba\",\n",
    "            \"stopwords\": \"lucene\"\n",
    "        }\n",
    "    },\n",
    "    \n",
    "    \"retrieve\": {\n",
    "        \"input\": {\n",
    "            \"index\": {\n",
    "                \"path\": \"runs/query-translation/index\"\n",
    "            }\n",
    "        },\n",
    "        \"name\": \"bm25\",\n",
    "        \"number\": 100\n",
    "    },\n",
    "    \n",
    "    # Define the reranker here, the name needs to match the one registered with patapsco. \n",
    "    \"rerank\": {\n",
    "        \"input\": {\n",
    "            \"database\": {\n",
    "                \"path\": \"runs/query-translation/database\"\n",
    "            }\n",
    "        },\n",
    "        \"name\": \"t5\",\n",
    "        \"output\": \"rerank\"\n",
    "    },\n",
    "    \n",
    "    # Evaluting the run\n",
    "    \"score\": {\n",
    "        \"input\": {\n",
    "            \"path\": \"zho.toy-dev.qrels.v1-0.txt\"\n",
    "        }\n",
    "    }\n",
    "}\n",
    "\n",
    "runner = patapsco.Runner(config_rerank)\n",
    "runner.run()"
   ]
  },
  {
   "cell_type": "code",
   "execution_count": 15,
   "id": "9512daa4",
   "metadata": {},
   "outputs": [
    {
     "name": "stdout",
     "output_type": "stream",
     "text": [
      "config.yml        \u001b[1m\u001b[34mprocessed_queries\u001b[m\u001b[m \u001b[1m\u001b[34mretrieve\u001b[m\u001b[m\r\n",
      "config_full.yml   \u001b[1m\u001b[34mrerank\u001b[m\u001b[m            scores.txt\r\n",
      "patapsco.log      results.txt       timing.json\r\n"
     ]
    }
   ],
   "source": [
    "!ls runs/T5-Reranking/"
   ]
  },
  {
   "cell_type": "code",
   "execution_count": null,
   "id": "a84ff142",
   "metadata": {},
   "outputs": [],
   "source": [
    "\n"
   ]
  }
 ],
 "metadata": {
  "kernelspec": {
   "display_name": "Python 3 (ipykernel)",
   "language": "python",
   "name": "python3"
  },
  "language_info": {
   "codemirror_mode": {
    "name": "ipython",
    "version": 3
   },
   "file_extension": ".py",
   "mimetype": "text/x-python",
   "name": "python",
   "nbconvert_exporter": "python",
   "pygments_lexer": "ipython3",
   "version": "3.9.7"
  }
 },
 "nbformat": 4,
 "nbformat_minor": 5
}
